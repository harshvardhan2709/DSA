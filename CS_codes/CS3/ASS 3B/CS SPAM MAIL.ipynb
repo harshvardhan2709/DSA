{
 "cells": [
  {
   "cell_type": "code",
   "execution_count": 42,
   "id": "6abb997a-f63e-400d-8ec1-05592c906ff0",
   "metadata": {},
   "outputs": [
    {
     "name": "stdout",
     "output_type": "stream",
     "text": [
      "CS ASS 3\n"
     ]
    }
   ],
   "source": [
    "print(\"CS ASS 3\")"
   ]
  },
  {
   "cell_type": "code",
   "execution_count": 43,
   "id": "a812e93e-5fca-44c0-bd4d-353c3a41edb5",
   "metadata": {},
   "outputs": [],
   "source": [
    "import pandas as pd"
   ]
  },
  {
   "cell_type": "code",
   "execution_count": 44,
   "id": "b9b4a61b-7a59-41bf-9c37-b15fb248a511",
   "metadata": {},
   "outputs": [],
   "source": [
    "spam_mail = pd.read_csv(\"/home/comp53/Documents/archive/spam_ham_dataset.csv\")"
   ]
  },
  {
   "cell_type": "code",
   "execution_count": 45,
   "id": "0d7cc52b-7474-49e4-9d45-db8082e40993",
   "metadata": {},
   "outputs": [
    {
     "data": {
      "text/html": [
       "<div>\n",
       "<style scoped>\n",
       "    .dataframe tbody tr th:only-of-type {\n",
       "        vertical-align: middle;\n",
       "    }\n",
       "\n",
       "    .dataframe tbody tr th {\n",
       "        vertical-align: top;\n",
       "    }\n",
       "\n",
       "    .dataframe thead th {\n",
       "        text-align: right;\n",
       "    }\n",
       "</style>\n",
       "<table border=\"1\" class=\"dataframe\">\n",
       "  <thead>\n",
       "    <tr style=\"text-align: right;\">\n",
       "      <th></th>\n",
       "      <th>Unnamed: 0</th>\n",
       "      <th>label</th>\n",
       "      <th>text</th>\n",
       "      <th>label_num</th>\n",
       "    </tr>\n",
       "  </thead>\n",
       "  <tbody>\n",
       "    <tr>\n",
       "      <th>0</th>\n",
       "      <td>605</td>\n",
       "      <td>ham</td>\n",
       "      <td>Subject: enron methanol ; meter # : 988291\\r\\n...</td>\n",
       "      <td>0</td>\n",
       "    </tr>\n",
       "    <tr>\n",
       "      <th>1</th>\n",
       "      <td>2349</td>\n",
       "      <td>ham</td>\n",
       "      <td>Subject: hpl nom for january 9 , 2001\\r\\n( see...</td>\n",
       "      <td>0</td>\n",
       "    </tr>\n",
       "    <tr>\n",
       "      <th>2</th>\n",
       "      <td>3624</td>\n",
       "      <td>ham</td>\n",
       "      <td>Subject: neon retreat\\r\\nho ho ho , we ' re ar...</td>\n",
       "      <td>0</td>\n",
       "    </tr>\n",
       "    <tr>\n",
       "      <th>3</th>\n",
       "      <td>4685</td>\n",
       "      <td>spam</td>\n",
       "      <td>Subject: photoshop , windows , office . cheap ...</td>\n",
       "      <td>1</td>\n",
       "    </tr>\n",
       "    <tr>\n",
       "      <th>4</th>\n",
       "      <td>2030</td>\n",
       "      <td>ham</td>\n",
       "      <td>Subject: re : indian springs\\r\\nthis deal is t...</td>\n",
       "      <td>0</td>\n",
       "    </tr>\n",
       "  </tbody>\n",
       "</table>\n",
       "</div>"
      ],
      "text/plain": [
       "   Unnamed: 0 label                                               text  \\\n",
       "0         605   ham  Subject: enron methanol ; meter # : 988291\\r\\n...   \n",
       "1        2349   ham  Subject: hpl nom for january 9 , 2001\\r\\n( see...   \n",
       "2        3624   ham  Subject: neon retreat\\r\\nho ho ho , we ' re ar...   \n",
       "3        4685  spam  Subject: photoshop , windows , office . cheap ...   \n",
       "4        2030   ham  Subject: re : indian springs\\r\\nthis deal is t...   \n",
       "\n",
       "   label_num  \n",
       "0          0  \n",
       "1          0  \n",
       "2          0  \n",
       "3          1  \n",
       "4          0  "
      ]
     },
     "execution_count": 45,
     "metadata": {},
     "output_type": "execute_result"
    }
   ],
   "source": [
    "spam_mail.head()"
   ]
  },
  {
   "cell_type": "code",
   "execution_count": 46,
   "id": "5056f374-b6b0-4e5a-8172-de0914ef8091",
   "metadata": {},
   "outputs": [
    {
     "name": "stdout",
     "output_type": "stream",
     "text": [
      "<class 'pandas.core.frame.DataFrame'>\n",
      "RangeIndex: 5171 entries, 0 to 5170\n",
      "Data columns (total 4 columns):\n",
      " #   Column      Non-Null Count  Dtype \n",
      "---  ------      --------------  ----- \n",
      " 0   Unnamed: 0  5171 non-null   int64 \n",
      " 1   label       5171 non-null   object\n",
      " 2   text        5171 non-null   object\n",
      " 3   label_num   5171 non-null   int64 \n",
      "dtypes: int64(2), object(2)\n",
      "memory usage: 161.7+ KB\n"
     ]
    }
   ],
   "source": [
    "spam_mail.info()"
   ]
  },
  {
   "cell_type": "code",
   "execution_count": 47,
   "id": "35894ed2-507e-41d4-b718-baed255d980f",
   "metadata": {},
   "outputs": [],
   "source": [
    "# Remove the Unnecessary Column\n",
    "spam_mail = spam_mail.drop(columns=['Unnamed: 0'])"
   ]
  },
  {
   "cell_type": "code",
   "execution_count": 48,
   "id": "e121a615-1373-4331-9781-bc4e8dabc76c",
   "metadata": {},
   "outputs": [
    {
     "data": {
      "text/plain": [
       "label        0\n",
       "text         0\n",
       "label_num    0\n",
       "dtype: int64"
      ]
     },
     "execution_count": 48,
     "metadata": {},
     "output_type": "execute_result"
    }
   ],
   "source": [
    "# Check for Missing Values\n",
    "spam_mail.isnull().sum()"
   ]
  },
  {
   "cell_type": "code",
   "execution_count": 49,
   "id": "329c4094-f534-4abe-acf2-398096e0971d",
   "metadata": {},
   "outputs": [
    {
     "data": {
      "text/plain": [
       "label\n",
       "ham     3672\n",
       "spam    1499\n",
       "Name: count, dtype: int64"
      ]
     },
     "execution_count": 49,
     "metadata": {},
     "output_type": "execute_result"
    }
   ],
   "source": [
    "# Check spam vs ham distribution\n",
    "spam_mail['label'].value_counts()"
   ]
  },
  {
   "cell_type": "code",
   "execution_count": 52,
   "id": "ed22335f-95b4-44b2-b703-b82cff2c7942",
   "metadata": {},
   "outputs": [],
   "source": [
    "# Undersampling (Reduce Ham Emails)\n",
    "from imblearn.under_sampling import RandomUnderSampler"
   ]
  },
  {
   "cell_type": "code",
   "execution_count": 53,
   "id": "7ef9159e-ce74-4c6c-a89f-b034d6b8086e",
   "metadata": {},
   "outputs": [
    {
     "name": "stdout",
     "output_type": "stream",
     "text": [
      "label_num\n",
      "0    1499\n",
      "1    1499\n",
      "Name: count, dtype: int64\n"
     ]
    }
   ],
   "source": [
    "X = spam_mail['text']  # Features (Email Text)\n",
    "y = spam_mail['label_num']  # Target (0 = Ham, 1 = Spam)\n",
    "\n",
    "undersampler = RandomUnderSampler(random_state=42)\n",
    "X_resampled, y_resampled = undersampler.fit_resample(X.values.reshape(-1, 1), y)\n",
    "\n",
    "# Convert back to DataFrame\n",
    "balanced_data = pd.DataFrame({'text': X_resampled.flatten(), 'label_num': y_resampled})\n",
    "print(balanced_data['label_num'].value_counts())  # Now spam = ham"
   ]
  },
  {
   "cell_type": "code",
   "execution_count": 54,
   "id": "9e642a0a-900c-406a-81ef-8ebbe1cebe8d",
   "metadata": {},
   "outputs": [],
   "source": [
    "# Convert Text into Numerical Features (TF-IDF)\n",
    "from sklearn.feature_extraction.text import TfidfVectorizer"
   ]
  },
  {
   "cell_type": "code",
   "execution_count": 55,
   "id": "d11766a4-7108-434e-a689-7c843fcc959e",
   "metadata": {},
   "outputs": [],
   "source": [
    "# Convert email text into numerical form\n",
    "vectorizer = TfidfVectorizer(max_features=5000)  # Keep top 5000 words\n",
    "X_transformed = vectorizer.fit_transform(spam_mail['text']).toarray()\n",
    "y = spam_mail['label_num']  # Use the numeric labels"
   ]
  },
  {
   "cell_type": "code",
   "execution_count": 56,
   "id": "40c0e3d3-53aa-4bcf-b37d-94d8c3e5febc",
   "metadata": {},
   "outputs": [],
   "source": [
    "# Split Data into Training & Testing Sets\n",
    "from sklearn.model_selection import train_test_split"
   ]
  },
  {
   "cell_type": "code",
   "execution_count": 58,
   "id": "770892c8-28ee-40e2-9381-7b2e6f24cc2b",
   "metadata": {},
   "outputs": [
    {
     "name": "stdout",
     "output_type": "stream",
     "text": [
      "Training set size: 4136, Testing set size: 1035\n"
     ]
    }
   ],
   "source": [
    "X_train, X_test, y_train, y_test = train_test_split(X_transformed, y, test_size=0.2, random_state=42)\n",
    "\n",
    "print(f\"Training set size: {len(X_train)}, Testing set size: {len(X_test)}\")"
   ]
  },
  {
   "cell_type": "code",
   "execution_count": 59,
   "id": "89e2ff9f-f81c-433f-b906-e5411b42fa11",
   "metadata": {},
   "outputs": [],
   "source": [
    "# Train an ML Model\n",
    "# Naïve Bayes (Best for Text Data)\n",
    "from sklearn.naive_bayes import MultinomialNB"
   ]
  },
  {
   "cell_type": "code",
   "execution_count": 60,
   "id": "7e250aa4-b66a-423e-a8fc-480a8e53e7bb",
   "metadata": {},
   "outputs": [],
   "source": [
    "nb_model = MultinomialNB()\n",
    "nb_model.fit(X_train, y_train)\n",
    "# Predict using Naïve Bayes\n",
    "y_pred_nb = nb_model.predict(X_test)"
   ]
  },
  {
   "cell_type": "code",
   "execution_count": 61,
   "id": "5078733b-60f0-4753-a7ae-817632c683e8",
   "metadata": {},
   "outputs": [],
   "source": [
    "# Evaluate the Model’s Performance\n",
    "# Evaluate Naïve Bayes Model\n",
    "from sklearn.metrics import accuracy_score, classification_report"
   ]
  },
  {
   "cell_type": "code",
   "execution_count": 62,
   "id": "3c5819e9-512b-44aa-83bc-3389e8f287ab",
   "metadata": {},
   "outputs": [
    {
     "name": "stdout",
     "output_type": "stream",
     "text": [
      "Naïve Bayes Accuracy: 95.7487922705314\n",
      "              precision    recall  f1-score   support\n",
      "\n",
      "           0       0.97      0.97      0.97       742\n",
      "           1       0.92      0.92      0.92       293\n",
      "\n",
      "    accuracy                           0.96      1035\n",
      "   macro avg       0.95      0.95      0.95      1035\n",
      "weighted avg       0.96      0.96      0.96      1035\n",
      "\n"
     ]
    }
   ],
   "source": [
    "# Evaluate Naïve Bayes Model\n",
    "print(\"Naïve Bayes Accuracy:\", accuracy_score(y_test, y_pred_nb) * 100)\n",
    "print(classification_report(y_test, y_pred_nb))"
   ]
  },
  {
   "cell_type": "code",
   "execution_count": 63,
   "id": "87fd0fd0-b9bc-49b4-8b38-4f0c5edc22bb",
   "metadata": {},
   "outputs": [
    {
     "name": "stdout",
     "output_type": "stream",
     "text": [
      "Custom Email 1: Spam\n",
      "Custom Email 2: Ham\n"
     ]
    }
   ],
   "source": [
    "# Function to Predict Spam or Ham\n",
    "def predict_email(text, model):\n",
    "    # Convert the input text into numerical form using the trained vectorizer\n",
    "    text_transformed = vectorizer.transform([text]).toarray()\n",
    "    \n",
    "    # Predict using the trained model\n",
    "    prediction = model.predict(text_transformed)\n",
    "    \n",
    "    # Map numeric label back to text\n",
    "    return \"Spam\" if prediction[0] == 1 else \"Ham\"\n",
    "\n",
    "# Example: Test Custom Emails\n",
    "custom_email_1 = \"Congratulations! You won a free iPhone. Click here to claim now.\"\n",
    "custom_email_2 = \"Hey, let's meet for coffee tomorrow.\"\n",
    "\n",
    "# Predict using Naïve Bayes Model\n",
    "print(f\"Custom Email 1: {predict_email(custom_email_1, nb_model)}\")\n",
    "print(f\"Custom Email 2: {predict_email(custom_email_2, nb_model)}\")"
   ]
  },
  {
   "cell_type": "code",
   "execution_count": 65,
   "id": "960902fe-bcb6-4ad7-8e6e-814aeb923d6f",
   "metadata": {},
   "outputs": [
    {
     "name": "stdout",
     "output_type": "stream",
     "text": [
      "Prediction: Spam\n"
     ]
    }
   ],
   "source": [
    "custom_email = \"Siddhi, you almost missed this opportunity!\"\n",
    "print(f\"Prediction: {predict_email(custom_email, nb_model)}\")"
   ]
  },
  {
   "cell_type": "code",
   "execution_count": 64,
   "id": "7a6b0ef0-7ee7-45d5-a0d5-449122bea69a",
   "metadata": {},
   "outputs": [
    {
     "name": "stdout",
     "output_type": "stream",
     "text": [
      "Prediction: Ham\n"
     ]
    }
   ],
   "source": [
    "custom_email = \"I am confirming my participation to this bootcamp\"\n",
    "print(f\"Prediction: {predict_email(custom_email, nb_model)}\")"
   ]
  },
  {
   "cell_type": "code",
   "execution_count": null,
   "id": "cbdd1cb7-e0ea-44cc-8ed3-1c9f49781643",
   "metadata": {},
   "outputs": [],
   "source": []
  }
 ],
 "metadata": {
  "kernelspec": {
   "display_name": "Python 3 (ipykernel)",
   "language": "python",
   "name": "python3"
  },
  "language_info": {
   "codemirror_mode": {
    "name": "ipython",
    "version": 3
   },
   "file_extension": ".py",
   "mimetype": "text/x-python",
   "name": "python",
   "nbconvert_exporter": "python",
   "pygments_lexer": "ipython3",
   "version": "3.8.10"
  }
 },
 "nbformat": 4,
 "nbformat_minor": 5
}
